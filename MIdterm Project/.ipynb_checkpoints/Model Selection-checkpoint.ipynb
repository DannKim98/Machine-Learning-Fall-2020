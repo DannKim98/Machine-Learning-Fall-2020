{
 "cells": [
  {
   "cell_type": "markdown",
   "metadata": {},
   "source": [
    "# Practical design of a learning algorithm\n",
    "Using the Linear & Logistic Regression implement a routine that uses kfold cross validation for model selection on digits dataset."
   ]
  },
  {
   "cell_type": "code",
   "execution_count": 53,
   "metadata": {},
   "outputs": [],
   "source": [
    "import numpy as np\n",
    "import matplotlib.pyplot as plt\n",
    "from sklearn import datasets"
   ]
  },
  {
   "cell_type": "markdown",
   "metadata": {},
   "source": [
    "## Task 1\n",
    "- Load Optical Recognition of Handwritten Digits Data Set"
   ]
  },
  {
   "cell_type": "code",
   "execution_count": 94,
   "metadata": {},
   "outputs": [],
   "source": [
    "# Load the digits data set\n",
    "digits = datasets.load_digits()\n",
    "X_data = digits.data\n",
    "Y_data = digits.target\n",
    "\n",
    "# Shuffle the data\n",
    "rng = np.random.RandomState(0)\n",
    "permutation = rng.permutation(len(X_data))\n",
    "X_data, Y_data = X_data[permutation], Y_data[permutation]\n",
    "\n",
    "# Split the data to train and test\n",
    "X_data_train, X_data_test, Y_data_train, Y_data_test = X_data[:1200], X_data[1200:], Y_data[:1200], Y_data[1200:]"
   ]
  },
  {
   "cell_type": "markdown",
   "metadata": {},
   "source": [
    "## Task 2\n",
    "- Implement Linear and Logistic Regression"
   ]
  },
  {
   "cell_type": "code",
   "execution_count": 55,
   "metadata": {},
   "outputs": [],
   "source": [
    "def lin_regression(X, Y):\n",
    "        X_pseudo = np.dot(np.linalg.pinv(np.dot(X.T, X)), X.T)\n",
    "        W_lin = np.dot(X_pseudo, Y)\n",
    "        return W_lin\n",
    "    \n",
    "def log_regression(X, Y, T=2000, learning_rate=0.001):\n",
    "    W = np.zeros((X.shape[1],)) \n",
    "    for i in range(T):\n",
    "        n = np.random.randint(0,len(X))\n",
    "        x_n = X[n]\n",
    "        E_dev = (-Y[n] * x_n)/(1 + np.exp((Y[n] * np.dot(W, x_n))))\n",
    "        W = W - learning_rate * E_dev\n",
    "    return W\n",
    "\n",
    "def generate_D_Y(Y, k):\n",
    "    Y_copy = np.copy(Y)\n",
    "    for i, y in enumerate(Y_copy):\n",
    "        Y_copy[i] = 2 * (int(y) == k) - 1\n",
    "    return Y_copy\n",
    "\n",
    "def sigmoid(x):\n",
    "    return 1/(1+np.exp(-x))\n",
    "\n",
    "def calculate_prob(W, X):\n",
    "    probs = []\n",
    "    for i in range(10):\n",
    "        probs.append(sigmoid(np.dot(X, W[i])))\n",
    "    return probs\n",
    "\n",
    "def predict(p):\n",
    "    Y_pred = []\n",
    "    for i in range(len(p[0])):\n",
    "        Y_pred.append(np.argmax(p[:,i]))\n",
    "    return Y_pred\n",
    "\n",
    "def calculate_accuracy(Y_pred, Y):\n",
    "    correct = 0\n",
    "    for i in range(len(Y)):\n",
    "        if Y_pred[i] == Y[i]:\n",
    "            correct += 1\n",
    "    return correct/len(Y)"
   ]
  },
  {
   "cell_type": "markdown",
   "metadata": {},
   "source": [
    "### Linear Regression"
   ]
  },
  {
   "cell_type": "code",
   "execution_count": 56,
   "metadata": {},
   "outputs": [],
   "source": [
    "class linear_regression:\n",
    "    def fit(X, Y):\n",
    "        W = []\n",
    "        for i in range(10):\n",
    "            W.append(lin_regression(X, generate_D_Y(Y, i)))\n",
    "        return W\n",
    "\n",
    "    def score(X, Y, W):\n",
    "        probs = calculate_prob(W, X)\n",
    "        Y_pred = predict(np.array(probs))\n",
    "        return calculate_accuracy(Y_pred, Y)"
   ]
  },
  {
   "cell_type": "markdown",
   "metadata": {},
   "source": [
    "### Logistic Regression"
   ]
  },
  {
   "cell_type": "code",
   "execution_count": 57,
   "metadata": {},
   "outputs": [],
   "source": [
    "class logistic_regression:    \n",
    "    def fit(X, Y):\n",
    "        W = []\n",
    "        for i in range(10):\n",
    "            W.append(log_regression(X, generate_D_Y(Y, i)))\n",
    "        return W\n",
    "\n",
    "    def score(X, Y, W):\n",
    "        probs = calculate_prob(W, X)\n",
    "        Y_pred = predict(np.array(probs))\n",
    "        return calculate_accuracy(Y_pred, Y)"
   ]
  },
  {
   "cell_type": "markdown",
   "metadata": {},
   "source": [
    "## Task 3 \n",
    "- Write a function that divides the on digits dataset (training) set (of size m) into n disjoint sets S1 , ..., Sn of equal size n/m. \n",
    "- For each Si: Train a classifier (e.g. Lin Reg. Log Reg) on S\\Si, Test it on Si ← error(i)\n",
    "- Output the average error"
   ]
  },
  {
   "cell_type": "code",
   "execution_count": 58,
   "metadata": {},
   "outputs": [],
   "source": [
    "def crossval(X, Y, classifier, k):\n",
    "    n_samples = len(X)\n",
    "    fold_size = n_samples // k\n",
    "    scores = []\n",
    "    masks = []\n",
    "\n",
    "    for fold in range(k):\n",
    "        test_mask = np.zeros(n_samples, dtype=bool)\n",
    "        test_mask[fold * fold_size : (fold + 1) * fold_size] = True\n",
    "        masks.append(test_mask)\n",
    "\n",
    "        X_test, Y_test = X[test_mask], Y[test_mask]\n",
    "        X_train, Y_train = X[~test_mask], Y[~test_mask]\n",
    "\n",
    "        W = classifier.fit(X_train, Y_train)\n",
    "\n",
    "        scores.append(classifier.score(X_test, Y_test, W))\n",
    "    return scores, W"
   ]
  },
  {
   "cell_type": "markdown",
   "metadata": {},
   "source": [
    "## Task 4\n",
    "- Report the comparative analysis of the performance of Linear and Logistic regression and when you change the number of folds in validation (5 fold vs. 10 fold vs. 20 fold vs. loocv)."
   ]
  },
  {
   "cell_type": "markdown",
   "metadata": {},
   "source": [
    "### Logistic Regression"
   ]
  },
  {
   "cell_type": "code",
   "execution_count": 95,
   "metadata": {},
   "outputs": [],
   "source": [
    "scores_log_reg_5fold, W_log_5fold = crossval(X_data_train, Y_data_train, logistic_regression, 5)\n",
    "scores_log_reg_10fold, W_log_10fold = crossval(X_data_train, Y_data_train, logistic_regression, 10)\n",
    "scores_log_reg_20fold, W_log_20fold = crossval(X_data_train, Y_data_train, logistic_regression, 20)\n",
    "scores_log_reg_loocv, W_log_loocv = crossval(X_data_train, Y_data_train, logistic_regression, len(X_data_train)-1)"
   ]
  },
  {
   "cell_type": "code",
   "execution_count": 112,
   "metadata": {},
   "outputs": [
    {
     "name": "stdout",
     "output_type": "stream",
     "text": [
      "avg accuracy of logistic regression (5 folds) : 0.925\n",
      "avg accuracy of logistic regression (10 folds): 0.9333333333333333\n",
      "avg accuracy of logistic regression (20 folds): 0.9241666666666666\n",
      "avg accuracy of logistic regression (loocv)   : 0.932443703085905\n"
     ]
    }
   ],
   "source": [
    "print('avg accuracy of logistic regression (5 folds) :', np.mean(scores_log_reg_5fold))\n",
    "print('avg accuracy of logistic regression (10 folds):', np.mean(scores_log_reg_10fold))\n",
    "print('avg accuracy of logistic regression (20 folds):', np.mean(scores_log_reg_20fold))\n",
    "print('avg accuracy of logistic regression (loocv)   :', np.mean(scores_log_reg_loocv))"
   ]
  },
  {
   "cell_type": "markdown",
   "metadata": {},
   "source": [
    "### Linear Regression"
   ]
  },
  {
   "cell_type": "code",
   "execution_count": 97,
   "metadata": {},
   "outputs": [],
   "source": [
    "scores_lin_reg_5fold, W_lin_5fold = crossval(X_data_train, Y_data_train, linear_regression, 5)\n",
    "scores_lin_reg_10fold, W_lin_10fold = crossval(X_data_train, Y_data_train, linear_regression, 10)\n",
    "scores_lin_reg_20fold, W_lin_20fold = crossval(X_data_train, Y_data_train, linear_regression, 20)\n",
    "scores_lin_reg_loocv, W_lin_loocv = crossval(X_data_train, Y_data_train, linear_regression, len(X_data_train)-1)"
   ]
  },
  {
   "cell_type": "code",
   "execution_count": 113,
   "metadata": {},
   "outputs": [
    {
     "name": "stdout",
     "output_type": "stream",
     "text": [
      "avg accuracy of linear regression (5 folds) : 0.9275\n",
      "avg accuracy of linear regression (10 folds): 0.9308333333333334\n",
      "avg accuracy of linear regression (20 folds): 0.9291666666666665\n",
      "avg accuracy of linear regression (loocv)   : 0.9357798165137615\n"
     ]
    }
   ],
   "source": [
    "print('avg accuracy of linear regression (5 folds) :', np.mean(scores_lin_reg_5fold))\n",
    "print('avg accuracy of linear regression (10 folds):', np.mean(scores_lin_reg_10fold))\n",
    "print('avg accuracy of linear regression (20 folds):', np.mean(scores_lin_reg_20fold))\n",
    "print('avg accuracy of linear regression (loocv)   :', np.mean(scores_lin_reg_loocv))"
   ]
  },
  {
   "cell_type": "markdown",
   "metadata": {},
   "source": [
    "### Final Evaluation on Test Data"
   ]
  },
  {
   "cell_type": "code",
   "execution_count": 101,
   "metadata": {},
   "outputs": [
    {
     "name": "stdout",
     "output_type": "stream",
     "text": [
      "0.9463986599664992\n",
      "0.9413735343383585\n",
      "0.9614740368509213\n",
      "0.9430485762144054\n"
     ]
    }
   ],
   "source": [
    "print(logistic_regression.score(X_data_test, Y_data_test, W_log_5fold))\n",
    "print(logistic_regression.score(X_data_test, Y_data_test, W_log_10fold))\n",
    "print(logistic_regression.score(X_data_test, Y_data_test, W_log_20fold))\n",
    "print(logistic_regression.score(X_data_test, Y_data_test, W_log_loocv))"
   ]
  },
  {
   "cell_type": "code",
   "execution_count": 102,
   "metadata": {},
   "outputs": [
    {
     "name": "stdout",
     "output_type": "stream",
     "text": [
      "0.9346733668341709\n",
      "0.9430485762144054\n",
      "0.9430485762144054\n",
      "0.9413735343383585\n"
     ]
    }
   ],
   "source": [
    "print(linear_regression.score(X_data_test, Y_data_test, W_lin_5fold))\n",
    "print(linear_regression.score(X_data_test, Y_data_test, W_lin_10fold))\n",
    "print(linear_regression.score(X_data_test, Y_data_test, W_lin_20fold))\n",
    "print(linear_regression.score(X_data_test, Y_data_test, W_lin_loocv))"
   ]
  },
  {
   "cell_type": "markdown",
   "metadata": {},
   "source": [
    "### Report \n",
    "The results show that the performance of Linear and Logistic Regression is similarly accurate, about 93%. Furthermore, the number of folds does not significantly affect the performance neither. Although the loocv is time consuming while training, it does not show outstanding performance. Therefore, I would not choose models with loocv. Also, the performance on final evaluation with a test data is approximately the same. That means there was no overfitting in any of the model. The logistic regression is time consuming while training, whereas linear regression is more efficient in this. Based on these finding I would choose the Linear Regression with 10 folds."
   ]
  },
  {
   "cell_type": "markdown",
   "metadata": {},
   "source": [
    "## Task 5\n",
    "- Perform GridSearchCV based tenfold cross validation using the Scikit-learn module and compare the performance of Linear and Logistic regression on digits dataset. \n",
    "- For each model plot the validation curves using Scikit-Learn to justfy your selection of a final model. Explain shortly how you addressed bias-variance tradeoff, and that your model has not overfitted the digits dataset."
   ]
  },
  {
   "cell_type": "code",
   "execution_count": 34,
   "metadata": {},
   "outputs": [],
   "source": [
    "from sklearn.model_selection import GridSearchCV\n",
    "from sklearn.linear_model import LogisticRegression, LinearRegression"
   ]
  },
  {
   "cell_type": "markdown",
   "metadata": {},
   "source": [
    "### GridSearchCV on Logistic Regression"
   ]
  },
  {
   "cell_type": "code",
   "execution_count": 51,
   "metadata": {},
   "outputs": [
    {
     "name": "stdout",
     "output_type": "stream",
     "text": [
      "0.9510294936004452\n"
     ]
    }
   ],
   "source": [
    "grid = GridSearchCV(LogisticRegression(solver='liblinear', multi_class='auto'), param_grid={'C': [0.001]}, cv=10)\n",
    "grid.fit(X_data, Y_data)\n",
    "print(grid.best_score_)"
   ]
  },
  {
   "cell_type": "markdown",
   "metadata": {},
   "source": [
    "### GridSearchCV on Linear Regression"
   ]
  },
  {
   "cell_type": "code",
   "execution_count": 50,
   "metadata": {},
   "outputs": [
    {
     "name": "stdout",
     "output_type": "stream",
     "text": [
      "0.5648153656467219\n"
     ]
    }
   ],
   "source": [
    "grid = GridSearchCV(LinearRegression(), param_grid={'fit_intercept': [True, False]}, cv=10)\n",
    "grid.fit(X_data, Y_data)\n",
    "print(grid.best_score_)"
   ]
  },
  {
   "cell_type": "markdown",
   "metadata": {},
   "source": [
    "### Report \n",
    "Based on the GridSearchCV the sklearn logistic regression performes significantly better than the sklearn linear regression."
   ]
  },
  {
   "cell_type": "markdown",
   "metadata": {},
   "source": [
    "### Validation Curve on Logistic Regression\n",
    "30 corresponds to loocv, just for the sake of clarity of the graph"
   ]
  },
  {
   "cell_type": "code",
   "execution_count": 110,
   "metadata": {},
   "outputs": [
    {
     "data": {
      "image/png": "[encoded data removed]",
      "text/plain": [
       "<Figure size 720x504 with 1 Axes>"
      ]
     },
     "metadata": {
      "needs_background": "light"
     },
     "output_type": "display_data"
    }
   ],
   "source": [
    "plt.rcParams[\"figure.figsize\"] = (10,7)\n",
    "\n",
    "plt.plot([5, 10, 20, 30], [np.mean(scores_log_reg_5fold), np.mean(scores_log_reg_10fold),\n",
    "                                          np.mean(scores_log_reg_20fold), np.mean(scores_log_reg_loocv)], \n",
    "         'r', label=\"Training score\")\n",
    "plt.plot([5, 10, 20, 30], [logistic_regression.score(X_data_test, Y_data_test, W_log_5fold),\n",
    "                                          logistic_regression.score(X_data_test, Y_data_test, W_log_10fold),\n",
    "                                          logistic_regression.score(X_data_test, Y_data_test, W_log_20fold),\n",
    "                                          logistic_regression.score(X_data_test, Y_data_test, W_log_loocv)],\n",
    "         'b', label=\"Testing score\")\n",
    "\n",
    "plt.xlabel(\"k fold\")\n",
    "plt.ylabel(\"score\")\n",
    "plt.legend()\n",
    "plt.show()"
   ]
  },
  {
   "cell_type": "markdown",
   "metadata": {},
   "source": [
    "### Validation Curve on Linear Regression\n",
    "30 corresponds to loocv, just for the sake of clarity of the graph"
   ]
  },
  {
   "cell_type": "code",
   "execution_count": 111,
   "metadata": {},
   "outputs": [
    {
     "data": {
      "image/png": "[encoded data removed]",
      "text/plain": [
       "<Figure size 720x504 with 1 Axes>"
      ]
     },
     "metadata": {
      "needs_background": "light"
     },
     "output_type": "display_data"
    }
   ],
   "source": [
    "plt.rcParams[\"figure.figsize\"] = (10,7)\n",
    "\n",
    "plt.plot([5, 10, 20, 30], [np.mean(scores_lin_reg_5fold), np.mean(scores_lin_reg_10fold),\n",
    "                                          np.mean(scores_lin_reg_20fold), np.mean(scores_lin_reg_loocv)], \n",
    "         'r', label=\"Training score\")\n",
    "plt.plot([5, 10, 20, 30], [logistic_regression.score(X_data_test, Y_data_test, W_lin_5fold),\n",
    "                                          logistic_regression.score(X_data_test, Y_data_test, W_lin_10fold),\n",
    "                                          logistic_regression.score(X_data_test, Y_data_test, W_lin_20fold),\n",
    "                                          logistic_regression.score(X_data_test, Y_data_test, W_lin_loocv)],\n",
    "         'b', label=\"Testing score\")\n",
    "\n",
    "plt.xlabel(\"k fold\")\n",
    "plt.ylabel(\"score\")\n",
    "plt.legend()\n",
    "plt.show()"
   ]
  },
  {
   "cell_type": "markdown",
   "metadata": {},
   "source": [
    "### Conclusion\n",
    "It can be seen from the validation curves that the linear regression with 10 folds performes the best on the test data set. There is no overfitting in any of the models, because the accuracy on test is not less than on the training data set. "
   ]
  }
 ],
 "metadata": {
  "kernelspec": {
   "display_name": "Python 3",
   "language": "python",
   "name": "python3"
  },
  "language_info": {
   "codemirror_mode": {
    "name": "ipython",
    "version": 3
   },
   "file_extension": ".py",
   "mimetype": "text/x-python",
   "name": "python",
   "nbconvert_exporter": "python",
   "pygments_lexer": "ipython3",
   "version": "3.7.4"
  }
 },
 "nbformat": 4,
 "nbformat_minor": 2
}
